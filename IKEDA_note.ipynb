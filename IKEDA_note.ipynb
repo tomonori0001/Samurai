{
  "nbformat": 4,
  "nbformat_minor": 0,
  "metadata": {
    "colab": {
      "provenance": [],
      "include_colab_link": true
    },
    "kernelspec": {
      "name": "python3",
      "display_name": "Python 3"
    },
    "language_info": {
      "name": "python"
    }
  },
  "cells": [
    {
      "cell_type": "markdown",
      "metadata": {
        "id": "view-in-github",
        "colab_type": "text"
      },
      "source": [
        "<a href=\"https://colab.research.google.com/github/tomonori0001/Samurai/blob/main/IKEDA_note.ipynb\" target=\"_parent\"><img src=\"https://colab.research.google.com/assets/colab-badge.svg\" alt=\"Open In Colab\"/></a>"
      ]
    },
    {
      "cell_type": "code",
      "source": [
        "def calculate_total(price):\n",
        "    total = price + price*0.1\n",
        "\n",
        "print(f\"{total}円\")\n",
        "\n",
        "calculate_total(500)\n",
        "\n",
        "\n"
      ],
      "metadata": {
        "id": "6CWquMug3_q0"
      },
      "execution_count": null,
      "outputs": []
    },
    {
      "cell_type": "code",
      "source": [
        "def calculate_total(price, tax_rate=0.1):\n",
        "    total = price + price * tax_rate\n",
        "    return total\n",
        "\n",
        "total_price = calculate_total(500)\n",
        "print(f\"{total_price}円\")"
      ],
      "metadata": {
        "colab": {
          "base_uri": "https://localhost:8080/"
        },
        "id": "9eaXe1WI4ItP",
        "outputId": "2861f242-b3a0-4113-ee1c-f5169d3f7ffd"
      },
      "execution_count": null,
      "outputs": [
        {
          "output_type": "stream",
          "name": "stdout",
          "text": [
            "550.0円\n",
            "550.0円\n"
          ]
        }
      ]
    },
    {
      "cell_type": "code",
      "source": [
        "def show_user_name():\n",
        "    # ローカル変数を定義する\n",
        "    user_name = \"侍太郎\"\n",
        "\n",
        "    # ローカルスコープの範囲内でローカル変数を使う\n",
        "    print(user_name)\n",
        "\n",
        "show_user_name()\n",
        "\n",
        "# グローバルスコープ\n",
        "\n",
        "user_name = \"ロビーの侍さん\"\n",
        "\n",
        "show_user_name()\n",
        "\n",
        "print(user_name)\n",
        "\n"
      ],
      "metadata": {
        "colab": {
          "base_uri": "https://localhost:8080/"
        },
        "id": "SFQnv5DP8fQe",
        "outputId": "11d55df5-b7f7-453c-a1d3-e5ffab1820af"
      },
      "execution_count": null,
      "outputs": [
        {
          "output_type": "stream",
          "name": "stdout",
          "text": [
            "侍太郎\n",
            "侍太郎\n",
            "ロビーの侍さん\n"
          ]
        }
      ]
    },
    {
      "cell_type": "code",
      "source": [
        "class Product:\n",
        "    def __init__(self):\n",
        "        # 属性を定義する\n",
        "        self.name = \"\"\n",
        "\n",
        "#インスタンス化\n",
        "shampoo = Product()\n",
        "\n",
        "# 属性にアクセスし、値を代入する\n",
        "shampoo.name = \"シャンプー\"\n",
        "\n",
        "# 属性にアクセスし、値を出力する\n",
        "print(shampoo.name)\n"
      ],
      "metadata": {
        "colab": {
          "base_uri": "https://localhost:8080/"
        },
        "id": "6YjQM3kh9mce",
        "outputId": "82fe29e7-c3fd-4046-c428-432482828b16"
      },
      "execution_count": null,
      "outputs": [
        {
          "output_type": "stream",
          "name": "stdout",
          "text": [
            "シャンプー\n"
          ]
        }
      ]
    },
    {
      "cell_type": "code",
      "source": [
        "class Product:\n",
        "    def __init__(self):\n",
        "        self.name = \"\"\n",
        "\n",
        "    # メソッドを定義する\n",
        "    def set_name(self, name):\n",
        "        self.name = name\n",
        "\n",
        "    def show_name(self):\n",
        "        print(self.name)\n",
        "\n",
        "# インスタンス化する\n",
        "coffee = Product()\n",
        "\n",
        "# メソッドにアクセスして実行する\n",
        "coffee.set_name(\"コーヒー\")\n",
        "coffee.show_name()\n"
      ],
      "metadata": {
        "colab": {
          "base_uri": "https://localhost:8080/"
        },
        "id": "gYNEwSTR-5WP",
        "outputId": "58280973-31c6-44d2-b282-48ea94412570"
      },
      "execution_count": null,
      "outputs": [
        {
          "output_type": "stream",
          "name": "stdout",
          "text": [
            "コーヒー\n"
          ]
        }
      ]
    },
    {
      "cell_type": "markdown",
      "source": [
        "#### 15.3 クラスとは\n",
        "- **クラス**: オブジェクトの設計図。共通の特徴を持つオブジェクトを作るためのもの。\n",
        "- **インスタンス**: クラスに基づいて作られた具体的なオブジェクト。\n",
        "- **インスタンス化**: クラスからオブジェクトを作ること。\n",
        "\n",
        "#### 15.4 属性\n",
        "- **属性**: オブジェクトのデータ（変数）。\n",
        "- **定義方法**: クラス内で `self.属性名 = 値` と定義。\n",
        "- **アクセス方法**: インスタンス名.属性名 でアクセス。\n",
        "\n",
        "#### 15.5 メソッド\n",
        "- **メソッド**: オブジェクトの関数。\n",
        "- **定義方法**: クラス内で `def メソッド名(self):` と定義。\n",
        "- **アクセス方法**: インスタンス名.メソッド名() で実行。\n",
        "\n",
        "#### 15.6 コンストラクタ\n",
        "- **コンストラクタ**: インスタンス化時に自動で実行される特別なメソッド。初期化を行う。\n",
        "- **定義方法**: `def __init__(self):` とクラス内で定義。\n"
      ],
      "metadata": {
        "id": "obmTmqWT-XhX"
      }
    },
    {
      "cell_type": "code",
      "source": [
        "class Dog:\n",
        "    def __init__(self, name, age):\n",
        "        self.name = name\n",
        "        self.age = age\n",
        "\n",
        "    def bark(self):\n",
        "        print(self.name + \" ワン!\")\n",
        "\n",
        "# インスタンス化\n",
        "my_dog = Dog(\"Pochi\", 2)\n",
        "\n",
        "my_dog.bark()  # \"Pochi says ワン!\" が出力される\n"
      ],
      "metadata": {
        "colab": {
          "base_uri": "https://localhost:8080/"
        },
        "id": "CDxglR8OB1cO",
        "outputId": "bc4bff25-a338-437c-ac92-d4139327a373"
      },
      "execution_count": null,
      "outputs": [
        {
          "output_type": "stream",
          "name": "stdout",
          "text": [
            "Pochi ワン!\n"
          ]
        }
      ]
    },
    {
      "cell_type": "markdown",
      "source": [],
      "metadata": {
        "id": "SJETsekC0pMU"
      }
    },
    {
      "cell_type": "markdown",
      "source": [
        "Python基礎 最終課題 hint\n",
        "\n",
        "クラスの定義: Pythonでは、class キーワードを使ってクラスを定義します。例えば、class Human: のようにしてクラスを開始します。\n",
        "\n",
        "イニシャライザ: クラスには、インスタンスが作成される際に自動的に呼ばれる特別なメソッド、イニシャライザ（__init__メソッド）があります。これを使って、name と age 属性を初期化します。\n",
        "\n",
        "メソッドの定義: クラス内にメソッド（関数）を定義することができます。check_adult という名前のメソッドを作り、年齢に応じたメッセージを print で出力しましょう。\n",
        "\n",
        "条件分岐: if 文を使用して、age が20以上かどうかをチェックします。\n",
        "\n",
        "リストの使用: 複数の Human インスタンスを作成し、それらをリストに追加します。\n",
        "\n",
        "繰り返し処理: for ループを使って、リスト内の各 Human インスタンスに対して check_adult メソッドを呼び出します。"
      ],
      "metadata": {
        "id": "c7HMhOkp0ksT"
      }
    },
    {
      "cell_type": "code",
      "source": [
        "# 模範回答のコード\n",
        "\n",
        "class Human:\n",
        "    def __init__(self, name, age):\n",
        "        self.name = name\n",
        "        self.age = age\n",
        "\n",
        "    def check_adult(self):\n",
        "        if self.age >= 20:\n",
        "            print(f\"{self.name}は大人です。\")\n",
        "        else:\n",
        "            print(f\"{self.name}は大人ではありません。\")\n",
        "\n",
        "# Humanインスタンスのリストを作成\n",
        "humans = [\n",
        "    Human(\"田中\", 25),\n",
        "    Human(\"鈴木\", 19),\n",
        "    Human(\"佐藤\", 30)\n",
        "]\n",
        "\n",
        "# 各Humanインスタンスに対してcheck_adultメソッドを実行\n",
        "for human in humans:\n",
        "    human.check_adult()\n"
      ],
      "metadata": {
        "colab": {
          "base_uri": "https://localhost:8080/"
        },
        "id": "RgpNtK540iAH",
        "outputId": "2fc52215-2d4a-4baa-baaa-e6d4fb0b2414"
      },
      "execution_count": null,
      "outputs": [
        {
          "output_type": "stream",
          "name": "stdout",
          "text": [
            "田中は大人です。\n",
            "鈴木は大人ではありません。\n",
            "佐藤は大人です。\n"
          ]
        }
      ]
    },
    {
      "cell_type": "code",
      "source": [
        "class Human:\n",
        "    def __init__(self, name, age):\n",
        "        self.name = name\n",
        "        self.age = age\n",
        "\n",
        "    def check_adult(self):\n",
        "        if self.age >= 20:\n",
        "            print(f\"{self.name}さんは大人です。\")\n",
        "        else:\n",
        "            print(f\"{self.name}さんは大人ではありません。\")\n",
        "\n",
        "# Humanクラスのインスタンスを複数生成してリストに追加\n",
        "people_list = [\n",
        "    Human(\"Alice\", 25),\n",
        "    Human(\"Bob\", 18),\n",
        "    Human(\"Charlie\", 30)\n",
        "]\n",
        "\n",
        "# リストの要素数分だけcheck_adultメソッドを呼び出す\n",
        "for person in people_list:\n",
        "    person.check_adult()"
      ],
      "metadata": {
        "id": "ZDK5Z-68Eir_",
        "outputId": "25d01a85-d128-4f39-b0aa-12d64f711a49",
        "colab": {
          "base_uri": "https://localhost:8080/"
        }
      },
      "execution_count": null,
      "outputs": [
        {
          "output_type": "stream",
          "name": "stdout",
          "text": [
            "Aliceさんは大人です。\n",
            "Bobさんは大人ではありません。\n",
            "Charlieさんは大人です。\n"
          ]
        }
      ]
    }
  ]
}